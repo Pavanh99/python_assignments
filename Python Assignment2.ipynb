{
 "cells": [
  {
   "cell_type": "markdown",
   "id": "356101e1-4b7d-4de2-8398-5d5063a708fa",
   "metadata": {},
   "source": [
    "1. What are the two values of the Boolean data type? How do you write them?\n",
    "\n",
    "Ans :-\n",
    "\n",
    "Boolean has two values\n",
    "i] True\n",
    "ii] False\n",
    "\n",
    "Ex :- bool('Hello') = True\n",
    "      bool() = False\n",
    "      bool(-2.4) = True\n",
    "      bool(0) = False"
   ]
  },
  {
   "cell_type": "markdown",
   "id": "61285a1d-273e-42c1-be63-a97d1bd40afd",
   "metadata": {},
   "source": [
    "2. What are the three different types of Boolean operators?\n",
    "\n",
    "Ans :-\n",
    "\n",
    "i] and\n",
    "ii] or\n",
    "ii] not"
   ]
  },
  {
   "cell_type": "markdown",
   "id": "5a1f2576-428e-4a94-9a03-c88d7b2283bb",
   "metadata": {},
   "source": [
    "3. Make a list of each Boolean operator's truth tables (i.e. every possible combination of Boolean values for the operator and what it evaluate).\n",
    "\n",
    "Ans :-\n",
    "\n",
    "AND \n",
    "\n",
    "A | B | Output |\n",
    "----------------\n",
    "True | True | True |\n",
    "True | False | False |\n",
    "False | True | False |\n",
    "False | False | False |\n",
    "\n",
    "OR \n",
    "\n",
    "A | B | Output |\n",
    "----------------\n",
    "True | True | True |\n",
    "True | False | True |\n",
    "False | True | True |\n",
    "False | False | False |\n",
    "\n",
    "NOT \n",
    "\n",
    "A | Output |\n",
    "------------\n",
    "True | False |\n",
    "False | True |"
   ]
  },
  {
   "cell_type": "markdown",
   "id": "20b5a035-e832-4281-a8c9-f54c64b6a735",
   "metadata": {},
   "source": [
    "4. What are the values of the following expressions?\n",
    "\n",
    "Ans :-\n",
    "\n",
    "i] (5 > 4) and (3 == 5) :- False\n",
    "ii] not(5 > 4) :- False\n",
    "iii] (5 > 4) or (3 == 5) :- True\n",
    "iv] not((5 > 4) or (3 == 5)) :- False\n",
    "v] (True and True) and (True == False) :- False\n",
    "vi] (not False) or (not True) :- True\n"
   ]
  },
  {
   "cell_type": "markdown",
   "id": "75ff8681-84d9-433d-a013-50b29311a5af",
   "metadata": {},
   "source": [
    "5. What are the six comparison operators ?\n",
    "\n",
    "Ans :-\n",
    "\n",
    "== :- Equals\n",
    "!= :- Not Equal\n",
    "< :- Lesser than\n",
    "> :- Greater than\n",
    "<= :- Lesser than or equals to\n",
    ">= :- Greater then or equals to"
   ]
  },
  {
   "cell_type": "markdown",
   "id": "fa8163a8-faec-42c5-9d0c-9490de9cbf3a",
   "metadata": {},
   "source": [
    "6. How do you tell the difference between the equal to and assignment operators?Describe a condition and when you would use one.\n",
    "\n",
    "Ans :-\n",
    "\n",
    "Here Assignment operator is used to assign value to variable.\n",
    "Ex :- a = 4, b = 8\n",
    "\n",
    "Equal to operator is used to check the values to variables are equals\n",
    "Ex :- a = 4, b = 4\n",
    "      a == b :- True\n",
    "      c =4 , d = 5\n",
    "      c == d :- False\n",
    "      "
   ]
  },
  {
   "cell_type": "markdown",
   "id": "4ed46a5a-d405-4b02-bf8b-67370fb49ba7",
   "metadata": {},
   "source": [
    "7. Identify the three blocks in this code:\n",
    "\n",
    "\n",
    "Ans :-\n",
    "\n",
    "spam = 0                |\n",
    "if spam == 10:          | Block 1\n",
    "    print('eggs')       |\n",
    "\n",
    "if spam > 5:            |\n",
    "    print('bacon')      |Block 2\n",
    "else:                   |\n",
    "    print('ham')        | \n",
    "    \n",
    "print('spam')           |\n",
    "print('spam')           |Block 3"
   ]
  },
  {
   "cell_type": "markdown",
   "id": "93721400-caa4-4007-aafe-d5a86afa5a6c",
   "metadata": {},
   "source": [
    "8. Write code that prints Hello if 1 is stored in spam, prints Howdy if 2 is stored in spam, and prints Greetings! if anything else is stored in spam.\n",
    "\n",
    "Ans :-\n",
    "\n",
    "spam = int(input(\"Enter the value to be stored : \")\n",
    "if spam == 1:\n",
    "    print(\"Hello\")\n",
    "elif spam == 2:\n",
    "    print(\"Howdy\")\n",
    "else:\n",
    "    print(\"Greetings!\")"
   ]
  },
  {
   "cell_type": "markdown",
   "id": "cea9e1d8-e7fb-435b-a9f1-0ed0afd10cdd",
   "metadata": {},
   "source": [
    "9. If your programme is stuck in an endless loop, what keys you’ll press?\n",
    "\n",
    "Ans :- ctrl + c\n"
   ]
  },
  {
   "cell_type": "markdown",
   "id": "fb8584a4-02e0-4053-a964-0eee61dbaa76",
   "metadata": {},
   "source": [
    "10. How can you tell the difference between break and continue?\n",
    "\n",
    "Ans :- \n",
    "\n",
    "break command exits the current loops and executes next statement after that exited loop.\n",
    "continue command will skip the current loop and statement after continue keyword.\n"
   ]
  },
  {
   "cell_type": "markdown",
   "id": "39402cfa-c2e9-4e73-b610-b89aa128dad4",
   "metadata": {},
   "source": [
    "11. In a for loop, what is the difference between range(10), range(0, 10), and range(0, 10, 1)?\n",
    "\n",
    "Ans :-\n",
    "\n",
    "range(10) :- 0,1,2,3,4,5,6,7,8,9\n",
    "range(0,10) :- 0,1,2,3,4,5,6,7,8,9\n",
    "range(0,10,1) :- 0,1,2,3,4,5,6,7,8,9\n",
    "\n",
    "No difference."
   ]
  },
  {
   "cell_type": "markdown",
   "id": "792ac3c4-9e0f-4d19-bfed-9b970a45c0d3",
   "metadata": {},
   "source": [
    "12. Write a short program that prints the numbers 1 to 10 using a for loop. Then write an equivalent program that prints the numbers 1 to 10 using a while loop.\n",
    "\n",
    "Ans :-\n",
    "\n",
    "For loop :\n",
    "\n",
    "for i in range(0,11):\n",
    "    print(i)\n",
    "    \n",
    "While loop :\n",
    "\n",
    "a = 0\n",
    "while a < 11:\n",
    "    print(a)\n",
    "    a = a + 1\n"
   ]
  },
  {
   "cell_type": "markdown",
   "id": "c306c8d3-fa9f-46fa-83e2-baf94275804f",
   "metadata": {},
   "source": [
    "13. If you had a function named bacon() inside a module named spam, how would you call it after importing spam?\n",
    "\n",
    "Ans :-\n",
    "\n",
    "import spam\n",
    "spam.bacon()"
   ]
  }
 ],
 "metadata": {
  "kernelspec": {
   "display_name": "Python 3 (ipykernel)",
   "language": "python",
   "name": "python3"
  },
  "language_info": {
   "codemirror_mode": {
    "name": "ipython",
    "version": 3
   },
   "file_extension": ".py",
   "mimetype": "text/x-python",
   "name": "python",
   "nbconvert_exporter": "python",
   "pygments_lexer": "ipython3",
   "version": "3.10.6"
  }
 },
 "nbformat": 4,
 "nbformat_minor": 5
}
