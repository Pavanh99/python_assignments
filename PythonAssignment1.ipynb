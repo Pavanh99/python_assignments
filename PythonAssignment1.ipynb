{
 "cells": [
  {
   "cell_type": "markdown",
   "id": "b4042441-80a8-43d4-b21c-f4cd54baad32",
   "metadata": {},
   "source": [
    "1. In the below elements which of them are values or an expression? eg:- values can be\n",
    "integer or string and expressions will be mathematical operators.\n",
    "*\n",
    "hello&#39;\n",
    "-87.8\n",
    "-\n",
    "/\n",
    "+\n",
    "6\n",
    "\n",
    "Ans :-\n",
    "* :- mathematical operator(Expressions)\n",
    "'hello' :- String\n",
    "-87.8 :- Float\n",
    "- :- mathematical operator(Expressions)\n",
    "/ :- mathematical operator(Expressions)\n",
    "+ :- mathematical operator(Expressions)\n",
    "6 :- integer"
   ]
  },
  {
   "cell_type": "markdown",
   "id": "ae0fee01-3171-40ce-aa12-e68469ecae7f",
   "metadata": {},
   "source": [
    "2. What is the difference between string and variable?\n",
    "\n",
    "Ans :-\n",
    "\n",
    "String are the values written within the single/double quotes and these strings are immutables.\n",
    "\n",
    "Varibles are name given to point the object."
   ]
  },
  {
   "cell_type": "markdown",
   "id": "0d79fefb-43ac-4a19-9ce4-723a2951f8e3",
   "metadata": {},
   "source": [
    "3. Describe three different data types.\n",
    "\n",
    "Ans :- \n",
    "i] Integer :- It is representation for the whole numbers.(Number can be either positive or negative) (Ex :-  2,34,2990,-89)\n",
    "\n",
    "ii] String :- It is representation for set of characters within single/double quotes, these are immutable(can't be changed once created within the same assignment)(Ex :- \"Hello\",\"How are you\")\n",
    "\n",
    "iii] Float :- It is representation for the number with decimal points.\n",
    "(Ex:- 3.45, -4.5, 6.545)\n",
    "\n",
    "iv] Complex :- It's combination of real and imaginary number.\n",
    "(Ex :- 5+3j, -5+3j, -6-5j, -7.2-6.8j)"
   ]
  },
  {
   "cell_type": "markdown",
   "id": "b0203008-b230-4280-8934-7c5346ed8810",
   "metadata": {},
   "source": [
    "4. What is an expression made up of? What do all expressions do?\n",
    "\n",
    "Ans :-\n",
    "\n",
    "Expressions are used for performing mathematical operation between two or more numbers.\n",
    "\n",
    "Ex :- \n",
    "a,b = 2,3\n",
    "print((a+b),(a-b),(a*b))\n"
   ]
  },
  {
   "cell_type": "markdown",
   "id": "4882fd0c-96bd-4829-bc26-5f86e998cecb",
   "metadata": {},
   "source": [
    "5. This assignment statements, like spam = 10. What is the difference between an expression and a statement?\n",
    "\n",
    "Ans :- \n",
    "\n",
    "Expression are used to perform mathematical operation between two numbers(operand) using mathematical operator.\n",
    "\n",
    "Statements are used to assign values to these operands and perform mathematical operation.\n",
    "\n",
    "\n",
    "Ex :-\n",
    "\n",
    "a,b = 5,10 (Statement)\n",
    "\n",
    "Here a and b are operands\n",
    "\n",
    "a + b :- Expression \n",
    "+,*,-,/,%  :- Operators"
   ]
  },
  {
   "cell_type": "markdown",
   "id": "1cdbd1d9-8c28-4f86-8894-ca257b998eac",
   "metadata": {},
   "source": [
    "6. After running the following code, what does the variable bacon contain?\n",
    "bacon = 22\n",
    "bacon + 1\n",
    "\n",
    "Ans :-\n",
    "\n",
    "bacon value contains 22 only, since the new value isn't assigned to variable again."
   ]
  },
  {
   "cell_type": "markdown",
   "id": "90b44524-4035-45ec-9d2f-4854cc1f18aa",
   "metadata": {},
   "source": [
    "7. What should the values of the following two terms be?\n",
    "a. 'spam' + 'spamspam'\n",
    "b. 'spam' * 3\n",
    "\n",
    "Ans :-\n",
    " a. 'spamspamspam'\n",
    " b. 'spamspamspam'"
   ]
  },
  {
   "cell_type": "markdown",
   "id": "7f276287-0f51-47e2-8fe8-7930cef64265",
   "metadata": {},
   "source": [
    "8. Why is eggs a valid variable name while 100 is invalid?\n",
    "\n",
    "Ans :-\n",
    "\n",
    "Variables can be referred using any name except keywords and numbers.\n"
   ]
  },
  {
   "cell_type": "markdown",
   "id": "d076f0ff-8d0d-4ffa-9a12-e7aff1d72f7b",
   "metadata": {},
   "source": [
    "9. What three functions can be used to get the integer, floating-point number, or string version of a value?\n",
    "\n",
    "Ans :-\n",
    "\n",
    "Integer :- int()\n",
    "Float :- float()\n",
    "String :- str()"
   ]
  },
  {
   "cell_type": "markdown",
   "id": "deb23619-0352-4770-8c65-32cfac0e1803",
   "metadata": {},
   "source": [
    "10. Why does this expression cause an error? How can you fix it?\n",
    "'I have eaten'+ 99 +'burritos.'\n",
    "\n",
    "Ans :-\n",
    "\n",
    "Here string can't be concatenated with integer, so need to convert int data type to string and then concatenate it.\n",
    "\n",
    "Solved :-  'I have eaten' + ' 99 ' + 'burritos'\n",
    " "
   ]
  }
 ],
 "metadata": {
  "kernelspec": {
   "display_name": "Python 3 (ipykernel)",
   "language": "python",
   "name": "python3"
  },
  "language_info": {
   "codemirror_mode": {
    "name": "ipython",
    "version": 3
   },
   "file_extension": ".py",
   "mimetype": "text/x-python",
   "name": "python",
   "nbconvert_exporter": "python",
   "pygments_lexer": "ipython3",
   "version": "3.10.6"
  }
 },
 "nbformat": 4,
 "nbformat_minor": 5
}
