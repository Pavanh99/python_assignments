{
 "cells": [
  {
   "cell_type": "markdown",
   "id": "9d251f59-2abb-4269-ae1d-da0ce96e0b0e",
   "metadata": {},
   "source": [
    "1. Why are functions advantageous to have in your programs?\n",
    "\n",
    "Ans :-  \n",
    "\n",
    "As Function helps to have our logic in place with defined function, instead of writing same logic everytime, we can just simply call that function which in turn do that logic defined in the function.\n"
   ]
  },
  {
   "cell_type": "markdown",
   "id": "02aa445c-e7b6-41aa-8989-2a96eed45b6d",
   "metadata": {},
   "source": [
    "2. When does the code in a function run: when it&#39;s specified or when it's called?\n",
    "\n",
    "Ans :- \n",
    "\n",
    "Function run only when it's called, not when specified.\n"
   ]
  },
  {
   "cell_type": "code",
   "execution_count": null,
   "id": "a4af11be-cfc2-4847-b5fe-36fbf27b5ab3",
   "metadata": {},
   "outputs": [],
   "source": [
    "3. What statement created a function ?\n",
    "\n",
    "Ans :-\n",
    "\n",
    "def {function_name}():\n",
    "    return {data}\n",
    "\n",
    "This statement creates a function."
   ]
  },
  {
   "cell_type": "code",
   "execution_count": null,
   "id": "8463784e-2cdd-405c-921e-c65361868399",
   "metadata": {},
   "outputs": [],
   "source": [
    "4. What is the difference between a function and a function call?\n",
    "\n",
    "Ans :-\n",
    "\n",
    "Function is defined and not used when created.\n",
    "\n",
    "Function call is to process with the logic mentioned inside that function when needed."
   ]
  },
  {
   "cell_type": "code",
   "execution_count": null,
   "id": "ba24fde5-125c-4f58-a811-7e0960ca8e02",
   "metadata": {},
   "outputs": [],
   "source": [
    "5. How many global scopes are there in a Python program? How many local scopes?\n",
    "\n",
    "Ans :-\n",
    "\n",
    "One global scope specific to that function and as many of local scope."
   ]
  },
  {
   "cell_type": "code",
   "execution_count": null,
   "id": "4d21cb39-9aaa-44d2-bf4a-6474da94812e",
   "metadata": {},
   "outputs": [],
   "source": [
    "6. What happens to variables in a local scope when the function call returns?\n",
    "\n",
    "Ans :- \n",
    "\n",
    "local variables retains it's value until next call\n"
   ]
  },
  {
   "cell_type": "code",
   "execution_count": null,
   "id": "edecabf0-4ef8-4067-9a6a-d2e0031b1429",
   "metadata": {},
   "outputs": [],
   "source": [
    "7. What is the concept of a return value? Is it possible to have a return value in an expression?\n",
    "\n",
    "Ans :- \n",
    "\n",
    "When you call a function it should return the logic of the function written inside.\n",
    "Yes return can be expression"
   ]
  },
  {
   "cell_type": "code",
   "execution_count": null,
   "id": "8847baf8-9a20-45d0-9942-31b4fe1c3684",
   "metadata": {},
   "outputs": [],
   "source": [
    "8. If a function does not have a return statement, what is the return value of a call to that function?\n",
    "\n",
    "Ans :-\n",
    "\n",
    "Return value is NoneType."
   ]
  },
  {
   "cell_type": "code",
   "execution_count": null,
   "id": "0f6a31b5-0262-49b3-b85a-f9d0ac726484",
   "metadata": {},
   "outputs": [],
   "source": [
    "9. How do you make a function variable refer to the global variable?\n",
    "\n",
    "Ans :-\n",
    "\n",
    "if we specify the variable before the function start it's referred to global varibale."
   ]
  },
  {
   "cell_type": "code",
   "execution_count": null,
   "id": "b1f234f5-c1dd-45f7-9107-116c49aa499f",
   "metadata": {},
   "outputs": [],
   "source": [
    "10. What is the data type of None ?\n",
    "\n",
    "Ans :-\n",
    "\n",
    "None has NoneType"
   ]
  },
  {
   "cell_type": "code",
   "execution_count": null,
   "id": "776a3942-5d82-4766-abc4-653154a974d9",
   "metadata": {},
   "outputs": [],
   "source": [
    "11. What does the sentence import areallyourpetsnamederic do?\n",
    "\n",
    "Ans :-\n",
    "\n",
    "This import the mentioned module if exists or else gives error module not found"
   ]
  },
  {
   "cell_type": "code",
   "execution_count": null,
   "id": "496a4432-15e5-414d-9eac-6b159616ae30",
   "metadata": {},
   "outputs": [],
   "source": [
    "12. If you had a bacon() feature in a spam module, what would you call it after importing spam?\n",
    "\n",
    "Ans :-\n",
    "\n",
    "import spam()\n",
    "spam.bacon()\n"
   ]
  },
  {
   "cell_type": "code",
   "execution_count": null,
   "id": "a97e5fab-2492-415a-8af9-71ea89a5b068",
   "metadata": {},
   "outputs": [],
   "source": [
    "13. What can you do to save a programme from crashing if it encounters an error?\n",
    "\n",
    "Ans :-\n",
    "\n",
    "use error handling"
   ]
  },
  {
   "cell_type": "code",
   "execution_count": null,
   "id": "94a9b166-e26d-4853-a8d0-c89f65a6cf11",
   "metadata": {},
   "outputs": [],
   "source": [
    "14. What is the purpose of the try clause? What is the purpose of the except clause?\n",
    "\n",
    "Ans :-\n",
    "\n",
    "If no exception try clause will run, except clause wont execute\n",
    "If any exception occurs try cause will be skippedm except clause  will run."
   ]
  }
 ],
 "metadata": {
  "kernelspec": {
   "display_name": "Python 3 (ipykernel)",
   "language": "python",
   "name": "python3"
  },
  "language_info": {
   "codemirror_mode": {
    "name": "ipython",
    "version": 3
   },
   "file_extension": ".py",
   "mimetype": "text/x-python",
   "name": "python",
   "nbconvert_exporter": "python",
   "pygments_lexer": "ipython3",
   "version": "3.10.6"
  }
 },
 "nbformat": 4,
 "nbformat_minor": 5
}
